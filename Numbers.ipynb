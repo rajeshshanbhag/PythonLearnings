{
 "cells": [
  {
   "cell_type": "code",
   "execution_count": null,
   "id": "6e0ba390",
   "metadata": {},
   "outputs": [],
   "source": [
    "## NUMBERS"
   ]
  },
  {
   "cell_type": "code",
   "execution_count": 9,
   "id": "6bee93c6",
   "metadata": {},
   "outputs": [
    {
     "name": "stdout",
     "output_type": "stream",
     "text": [
      "7\n",
      "3\n",
      "10\n",
      "2.5\n",
      "2\n",
      "1\n",
      "10\n",
      "2.23606797749979\n",
      "14\n",
      "49\n"
     ]
    }
   ],
   "source": [
    "## Operation\n",
    "\n",
    "print (5+2)\n",
    "print (5-2)\n",
    "print (5*2)\n",
    "print (5/2)\n",
    "print (5//2)            # floor division truncates decimals\n",
    "print (5%2)             # modulo = remiander\n",
    "print (5*2)             # power\n",
    "print (5**0.5)          # root\n",
    "print (5+2*2+5)\n",
    "print ((5+2)*(2+5))"
   ]
  },
  {
   "cell_type": "code",
   "execution_count": null,
   "id": "172eb27b",
   "metadata": {},
   "outputs": [],
   "source": []
  }
 ],
 "metadata": {
  "kernelspec": {
   "display_name": "Python 3 (ipykernel)",
   "language": "python",
   "name": "python3"
  },
  "language_info": {
   "codemirror_mode": {
    "name": "ipython",
    "version": 3
   },
   "file_extension": ".py",
   "mimetype": "text/x-python",
   "name": "python",
   "nbconvert_exporter": "python",
   "pygments_lexer": "ipython3",
   "version": "3.9.12"
  }
 },
 "nbformat": 4,
 "nbformat_minor": 5
}
