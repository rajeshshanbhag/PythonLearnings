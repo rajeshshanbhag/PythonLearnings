{
 "cells": [
  {
   "cell_type": "code",
   "execution_count": 7,
   "id": "06d09e3c",
   "metadata": {},
   "outputs": [
    {
     "name": "stdout",
     "output_type": "stream",
     "text": [
      "Hello World\n",
      "hello world\n",
      "\n",
      "doesn't\n",
      "doesn't\n"
     ]
    }
   ],
   "source": [
    "## In single quotes or double quotes\n",
    "\n",
    "print (\"Hello World\")\n",
    "print ('hello world')\n",
    "print (\"\")\n",
    "print (\"doesn't\")\n",
    "print ('doesn\\'t')"
   ]
  },
  {
   "cell_type": "code",
   "execution_count": 19,
   "id": "b53b69e0",
   "metadata": {},
   "outputs": [
    {
     "name": "stdout",
     "output_type": "stream",
     "text": [
      "c:\n",
      "ewyork\n",
      "c:\n",
      "ewyork\n",
      "c:\\newyork\n"
     ]
    }
   ],
   "source": [
    "## Use raw strings\n",
    "\n",
    "print ('c:\\newyork')  #treats \\n as new line character\n",
    "print (\"c:\\newyork\")\n",
    "print (r'c:\\newyork')"
   ]
  },
  {
   "cell_type": "code",
   "execution_count": 21,
   "id": "46343382",
   "metadata": {},
   "outputs": [
    {
     "name": "stdout",
     "output_type": "stream",
     "text": [
      "newyork\n",
      "newnewnewnew\n"
     ]
    }
   ],
   "source": [
    "## Operations + *\n",
    "\n",
    "print (\"new\" + \"york\")\n",
    "print (\"new\" * 4)"
   ]
  },
  {
   "cell_type": "code",
   "execution_count": 7,
   "id": "fc2e05da",
   "metadata": {},
   "outputs": [
    {
     "name": "stdout",
     "output_type": "stream",
     "text": [
      "N\n",
      "r\n",
      "k\n",
      "Y\n",
      "ewYork\n",
      "New\n",
      "NewYor\n",
      "wYork\n",
      "Nwok\n",
      "kroYweN\n"
     ]
    }
   ],
   "source": [
    "## Assignment & Index\n",
    "\n",
    "word='NewYork'                 # assign string\n",
    "print (word[0])\n",
    "print (word[5])\n",
    "print (word[-1])\n",
    "print (word[-4])\n",
    "print (word[1:])\n",
    "print (word[:3])\n",
    "print (word[:-1])\n",
    "print (word[2::])\n",
    "print (word[::2])              # extract everything in steps of 2\n",
    "print (word[::-1])             # print string backwards"
   ]
  },
  {
   "cell_type": "code",
   "execution_count": 31,
   "id": "749fb309",
   "metadata": {},
   "outputs": [
    {
     "name": "stdout",
     "output_type": "stream",
     "text": [
      "This is Python text\n",
      "\n"
     ]
    }
   ],
   "source": [
    "## Embed text in python\n",
    "\n",
    "print ('''\\\n",
    "This is Python text\n",
    "''')"
   ]
  },
  {
   "cell_type": "code",
   "execution_count": 13,
   "id": "566ad40d",
   "metadata": {},
   "outputs": [
    {
     "ename": "TypeError",
     "evalue": "'str' object does not support item assignment",
     "output_type": "error",
     "traceback": [
      "\u001b[1;31m---------------------------------------------------------------------------\u001b[0m",
      "\u001b[1;31mTypeError\u001b[0m                                 Traceback (most recent call last)",
      "Input \u001b[1;32mIn [13]\u001b[0m, in \u001b[0;36m<cell line: 5>\u001b[1;34m()\u001b[0m\n\u001b[0;32m      1\u001b[0m \u001b[38;5;66;03m## Strings are immutable, cannot be changed\u001b[39;00m\n\u001b[0;32m      3\u001b[0m word \u001b[38;5;241m=\u001b[39m \u001b[38;5;124m\"\u001b[39m\u001b[38;5;124mHello World\u001b[39m\u001b[38;5;124m\"\u001b[39m\n\u001b[1;32m----> 5\u001b[0m word[\u001b[38;5;241m0\u001b[39m] \u001b[38;5;241m=\u001b[39m \u001b[38;5;124m'\u001b[39m\u001b[38;5;124md\u001b[39m\u001b[38;5;124m'\u001b[39m\n\u001b[0;32m      6\u001b[0m \u001b[38;5;28mprint\u001b[39m (word)\n",
      "\u001b[1;31mTypeError\u001b[0m: 'str' object does not support item assignment"
     ]
    }
   ],
   "source": [
    "## Strings are immutable, cannot be changed\n",
    "\n",
    "word = \"Hello World\"\n",
    "\n",
    "word[0] = 'd'\n",
    "print (word)                  # string cannot be changed\n"
   ]
  },
  {
   "cell_type": "code",
   "execution_count": 17,
   "id": "98708d8c",
   "metadata": {},
   "outputs": [
    {
     "name": "stdout",
     "output_type": "stream",
     "text": [
      "NEW YORK\n",
      "new york\n",
      "['New', 'york']\n",
      "['New y', 'rk']\n"
     ]
    }
   ],
   "source": [
    "## METHODS\n",
    "\n",
    "word = \"New york\"\n",
    "\n",
    "print (word.upper())\n",
    "print (word.lower())\n",
    "print (word.split())\n",
    "print (word.split('o'))"
   ]
  },
  {
   "cell_type": "code",
   "execution_count": 31,
   "id": "9d757486",
   "metadata": {},
   "outputs": [
    {
     "name": "stdout",
     "output_type": "stream",
     "text": [
      "New Yord is cold and \tcloudy and the temperature is 75.74\n",
      "New Yord is cold and '\\tcloudy' and the temperature is 75\n",
      "number:    13.787\n",
      "New York is cold\n"
     ]
    }
   ],
   "source": [
    "## PRINT FORMATTING\n",
    "\n",
    "## (1) %s %r %d - s is string, r is string representation, d is integers\n",
    "\n",
    "x=\"cold\"\n",
    "y=\"\\tcloudy\"\n",
    "z=75.74\n",
    "print (\"New Yord is %s and %s and the temperature is %s\" %(x,y,z))\n",
    "print (\"New Yord is %s and %r and the temperature is %d\" %(x,y,z))\n",
    "\n",
    "# %(a.b)f floating point number - a=min number of char padded with whitespace; b=decimals\n",
    "n=13.7865\n",
    "print (\"number:%10.3f\" %(n))"
   ]
  },
  {
   "cell_type": "code",
   "execution_count": 54,
   "id": "e17d5201",
   "metadata": {},
   "outputs": [
    {
     "name": "stdout",
     "output_type": "stream",
     "text": [
      "NewYork is cold\n",
      "1\n",
      "String     | Number    \n",
      "NewYork    |         30\n",
      "2\n",
      "String     |     Number\n",
      "NewYork    |         30\n",
      "3\n",
      "####String | ####Number\n",
      "NewYork    | ########30\n"
     ]
    }
   ],
   "source": [
    "## PRINT FORMATTING\n",
    "\n",
    "## (2) .format method\n",
    "\n",
    "print ('{1} is {0}'.format('cold','NewYork'))\n",
    "\n",
    "# alignment (default: string=left-align, numbers=right-align)\n",
    "\n",
    "print ('1')\n",
    "print('{0:10} | {1:10}'.format('String', 'Number'))\n",
    "print('{0:10} | {1:10}'.format('NewYork', 30))\n",
    "\n",
    "# alignment operators <left ^centre >right\n",
    "print ('2')\n",
    "print('{0:10} | {1:>10}'.format('String', 'Number'))\n",
    "print('{0:10} | {1:10}'.format('NewYork', 30))\n",
    "\n",
    "# alignment padding\n",
    "print ('3')\n",
    "print('{0:#>10} | {1:#>10}'.format('String', 'Number'))\n",
    "print('{0:<10} | {1:#>10}'.format('NewYork', 30))"
   ]
  },
  {
   "cell_type": "code",
   "execution_count": null,
   "id": "7a84f965",
   "metadata": {},
   "outputs": [],
   "source": [
    "## PRINT FORMATTING\n",
    "\n",
    "# f-string"
   ]
  }
 ],
 "metadata": {
  "kernelspec": {
   "display_name": "Python 3 (ipykernel)",
   "language": "python",
   "name": "python3"
  },
  "language_info": {
   "codemirror_mode": {
    "name": "ipython",
    "version": 3
   },
   "file_extension": ".py",
   "mimetype": "text/x-python",
   "name": "python",
   "nbconvert_exporter": "python",
   "pygments_lexer": "ipython3",
   "version": "3.9.12"
  }
 },
 "nbformat": 4,
 "nbformat_minor": 5
}
