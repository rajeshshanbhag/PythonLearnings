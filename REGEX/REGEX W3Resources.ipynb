{
 "cells": [
  {
   "cell_type": "code",
   "execution_count": 2,
   "metadata": {},
   "outputs": [
    {
     "name": "stdout",
     "output_type": "stream",
     "text": [
      "True\n",
      "False\n"
     ]
    }
   ],
   "source": [
    "##1.Write a Python program to check that a string contains only a certain set of characters (in this case a-z, A-Z and 0-9)\n",
    "\n",
    "import re\n",
    "\n",
    "def myfunc(string):\n",
    "    patterns=r'[a-zA-Z0-9]'\n",
    "    array=re.findall(patterns,string)\n",
    "    return bool(array)\n",
    "\n",
    "print(myfunc(\"ABCDEFabcdef123450\")) \n",
    "print(myfunc(\"*&%@#!}{\"))"
   ]
  },
  {
   "cell_type": "code",
   "execution_count": 4,
   "metadata": {},
   "outputs": [
    {
     "name": "stdout",
     "output_type": "stream",
     "text": [
      "True\n",
      "True\n",
      "True\n",
      "False\n"
     ]
    }
   ],
   "source": [
    "##2.Write a Python program that matches a string that has an a followed by zero or more b's\n",
    "\n",
    "import re\n",
    "\n",
    "def myfunc(string):\n",
    "    patterns=r'ab*'\n",
    "    array=re.findall(patterns,string)\n",
    "    return bool(array)\n",
    "\n",
    "print(myfunc(\"ac\"))\n",
    "print(myfunc(\"abc\"))\n",
    "print(myfunc(\"abbc\"))\n",
    "print(myfunc(\"nbbc\"))"
   ]
  },
  {
   "cell_type": "code",
   "execution_count": 5,
   "metadata": {},
   "outputs": [
    {
     "name": "stdout",
     "output_type": "stream",
     "text": [
      "False\n",
      "True\n",
      "True\n",
      "False\n"
     ]
    }
   ],
   "source": [
    "##3.Write a Python program that matches a string that has an a followed by one or more b's\n",
    "\n",
    "import re\n",
    "\n",
    "def myfunc(string):\n",
    "    patterns=r'ab+'\n",
    "    array=re.findall(patterns,string)\n",
    "    return bool(array)\n",
    "\n",
    "print(myfunc(\"ac\"))\n",
    "print(myfunc(\"abc\"))\n",
    "print(myfunc(\"abbc\"))\n",
    "print(myfunc(\"nbbc\"))"
   ]
  },
  {
   "cell_type": "code",
   "execution_count": 6,
   "metadata": {},
   "outputs": [
    {
     "name": "stdout",
     "output_type": "stream",
     "text": [
      "True\n",
      "True\n",
      "True\n",
      "False\n"
     ]
    }
   ],
   "source": [
    "##4.Write a Python program that matches a string that has an a followed by zero or one 'b'\n",
    "\n",
    "import re\n",
    "\n",
    "def myfunc(string):\n",
    "    patterns=r'ab?'\n",
    "    array=re.findall(patterns,string)\n",
    "    return bool(array)\n",
    "\n",
    "print(myfunc(\"ac\"))\n",
    "print(myfunc(\"abc\"))\n",
    "print(myfunc(\"abbc\"))\n",
    "print(myfunc(\"nbbc\"))"
   ]
  },
  {
   "cell_type": "code",
   "execution_count": 8,
   "metadata": {},
   "outputs": [
    {
     "name": "stdout",
     "output_type": "stream",
     "text": [
      "True\n",
      "True\n",
      "False\n",
      "False\n"
     ]
    }
   ],
   "source": [
    "##5.Write a Python program that matches a string that has an a followed by three 'b'.\n",
    "\n",
    "import re\n",
    "\n",
    "def myfunc(string):\n",
    "    patterns=r'ab{3}'\n",
    "    array=re.findall(patterns,string)\n",
    "    return bool(array)\n",
    "\n",
    "print(myfunc(\"abbb\"))\n",
    "print(myfunc(\"aabbbbbbc\"))\n",
    "print(myfunc(\"abbc\"))\n",
    "print(myfunc(\"nbbc\"))"
   ]
  },
  {
   "cell_type": "code",
   "execution_count": 31,
   "metadata": {},
   "outputs": [
    {
     "name": "stdout",
     "output_type": "stream",
     "text": [
      "True\n",
      "True\n",
      "True\n",
      "False\n",
      "False\n"
     ]
    }
   ],
   "source": [
    "##6.Write a Python program that matches a string that has an a followed by two to three 'b'.\n",
    "\n",
    "import re\n",
    "\n",
    "def myfunc(string):\n",
    "    patterns=r'ab{2,3}'\n",
    "    array=re.findall(patterns,string)\n",
    "    return bool(array)\n",
    "\n",
    "print(myfunc(\"abbb\"))\n",
    "print(myfunc(\"aabbbbbbc\"))\n",
    "print(myfunc(\"abbc\"))\n",
    "print(myfunc(\"nbbc\"))\n",
    "print(myfunc(\" ab\"))"
   ]
  },
  {
   "cell_type": "code",
   "execution_count": 32,
   "metadata": {},
   "outputs": [
    {
     "name": "stdout",
     "output_type": "stream",
     "text": [
      "False\n",
      "False\n",
      "False\n",
      "False\n",
      "False\n",
      "True\n",
      "False\n"
     ]
    }
   ],
   "source": [
    "##7.Write a Python program to find sequences of lowercase letters joined with a underscore\n",
    "\n",
    "import re\n",
    "\n",
    "def myfunc(string):\n",
    "    patterns=r'^[a-z]+_[a-z]+'\n",
    "    array=re.findall(patterns,string)\n",
    "    return bool(array)\n",
    "\n",
    "print(myfunc(\"abbb\"))\n",
    "print(myfunc(\"aabbbbbbc\"))\n",
    "print(myfunc(\"abbc\"))\n",
    "print(myfunc(\"nbbc\"))\n",
    "print(myfunc(\" ab\"))\n",
    "print(myfunc(\"aab_cbbbc\"))\n",
    "print(myfunc(\"Aaab_abbbc\"))"
   ]
  },
  {
   "cell_type": "code",
   "execution_count": 35,
   "metadata": {},
   "outputs": [
    {
     "name": "stdout",
     "output_type": "stream",
     "text": [
      "False\n",
      "False\n",
      "True\n",
      "True\n",
      "False\n",
      "False\n",
      "True\n"
     ]
    }
   ],
   "source": [
    "##8. Write a Python program to find sequences of one upper case letter followed by lower case letters\n",
    "\n",
    "import re\n",
    "\n",
    "def myfunc(string):\n",
    "    patterns=r'[A-Z]+[a-z]+'\n",
    "    array=re.findall(patterns,string)\n",
    "    return bool(array)\n",
    "\n",
    "print(myfunc(\"abbb\"))\n",
    "print(myfunc(\"aabbbbbbc\"))\n",
    "print(myfunc(\"aBbc\"))\n",
    "print(myfunc(\"Nbbc\"))\n",
    "print(myfunc(\" ab\"))\n",
    "print(myfunc(\"aab_cbbbc\"))\n",
    "print(myfunc(\"Aaab_abbbc\"))"
   ]
  },
  {
   "cell_type": "code",
   "execution_count": 30,
   "metadata": {},
   "outputs": [
    {
     "name": "stdout",
     "output_type": "stream",
     "text": [
      "True\n",
      "False\n",
      "False\n",
      "False\n",
      "False\n",
      "False\n",
      "False\n"
     ]
    }
   ],
   "source": [
    "##9. Write a Python program that matches a string that has an 'a' followed by anything, ending in 'b'\n",
    "\n",
    "import re\n",
    "\n",
    "def myfunc(string):\n",
    "    patterns=r'a.+b$'\n",
    "    array=re.findall(patterns,string)\n",
    "    return bool(array)\n",
    "\n",
    "print(myfunc(\"abbb\"))\n",
    "print(myfunc(\"aabbbbbbc\"))\n",
    "print(myfunc(\"aBbc\"))\n",
    "print(myfunc(\"Nbbc\"))\n",
    "print(myfunc(\" ab\"))\n",
    "print(myfunc(\"aab_cbbbc\"))\n",
    "print(myfunc(\"Aaab_abbbc\"))"
   ]
  },
  {
   "cell_type": "code",
   "execution_count": 29,
   "metadata": {},
   "outputs": [
    {
     "name": "stdout",
     "output_type": "stream",
     "text": [
      "True\n",
      "True\n",
      "True\n",
      "True\n",
      "False\n",
      "True\n",
      "True\n"
     ]
    }
   ],
   "source": [
    "##10. Write a Python program that matches a word at the beginning of a string\n",
    "\n",
    "import re\n",
    "\n",
    "def myfunc(string):\n",
    "    patterns=r'^\\w+'\n",
    "    array=re.findall(patterns,string)\n",
    "    return bool(array)\n",
    "\n",
    "print(myfunc(\"abbb\"))\n",
    "print(myfunc(\"aabbbbbbc\"))\n",
    "print(myfunc(\"aBbc\"))\n",
    "print(myfunc(\"Nbbc\"))\n",
    "print(myfunc(\" ab\"))\n",
    "print(myfunc(\"aab_cbbbc\"))\n",
    "print(myfunc(\"Aaab_abbbc\"))"
   ]
  },
  {
   "cell_type": "code",
   "execution_count": 37,
   "metadata": {},
   "outputs": [
    {
     "name": "stdout",
     "output_type": "stream",
     "text": [
      "True\n",
      "True\n",
      "True\n",
      "False\n",
      "True\n",
      "True\n",
      "False\n"
     ]
    }
   ],
   "source": [
    "##11. Write a Python program that matches a word at end of string, with optional punctuation\n",
    "\n",
    "import re\n",
    "\n",
    "def myfunc(string):\n",
    "    patterns=r'\\w\\S?$'\n",
    "    array=re.findall(patterns,string)\n",
    "    return bool(array)\n",
    "\n",
    "print(myfunc(\"abbb\"))\n",
    "print(myfunc(\"aabbbbbbc\"))\n",
    "print(myfunc(\"aBbc\"))\n",
    "print(myfunc(\"Nbbc \"))\n",
    "print(myfunc(\" ab\"))\n",
    "print(myfunc(\"aab_cbbbc.\"))\n",
    "print(myfunc(\"Aaab_abbbc. \"))"
   ]
  },
  {
   "cell_type": "code",
   "execution_count": 39,
   "metadata": {},
   "outputs": [
    {
     "name": "stdout",
     "output_type": "stream",
     "text": [
      "False\n",
      "False\n",
      "False\n",
      "False\n",
      "False\n",
      "True\n",
      "False\n"
     ]
    }
   ],
   "source": [
    "##12. Write a Python program that matches a word containing 'z'\n",
    "\n",
    "import re\n",
    "\n",
    "def myfunc(string):\n",
    "    patterns=r'\\wz.'\n",
    "    array=re.findall(patterns,string)\n",
    "    return bool(array)\n",
    "\n",
    "print(myfunc(\"abbb\"))\n",
    "print(myfunc(\"aabbbbbbc\"))\n",
    "print(myfunc(\"aBbc\"))\n",
    "print(myfunc(\"Nbbc \"))\n",
    "print(myfunc(\" ab\"))\n",
    "print(myfunc(\"aab_cbzbbc.\"))\n",
    "print(myfunc(\"Aaab_abbbc. \"))"
   ]
  },
  {
   "cell_type": "code",
   "execution_count": 50,
   "metadata": {},
   "outputs": [
    {
     "name": "stdout",
     "output_type": "stream",
     "text": [
      "False\n",
      "False\n",
      "False\n",
      "False\n",
      "False\n",
      "True\n",
      "False\n",
      "True\n",
      "False\n"
     ]
    }
   ],
   "source": [
    "##13. Write a Python program that matches a word containing 'z', not start or end of the word\n",
    "\n",
    "import re\n",
    "\n",
    "def myfunc(string):\n",
    "    patterns=r'\\Bz\\B'\n",
    "    array=re.findall(patterns,string)\n",
    "    return bool(array)\n",
    "\n",
    "print(myfunc(\"abbb\"))\n",
    "print(myfunc(\"aabbbbbbc\"))\n",
    "print(myfunc(\"aBbcz\"))\n",
    "print(myfunc(\"Nbbc \"))\n",
    "print(myfunc(\" ab\"))\n",
    "print(myfunc(\"aab_cbzbbc.\"))\n",
    "print(myfunc(\"Aaab_abbbc. \"))\n",
    "print(myfunc(\"The quick brown fox jumps over the lazy dog.\"))\n",
    "print(myfunc(\"Python Exercises.\"))"
   ]
  },
  {
   "cell_type": "code",
   "execution_count": 58,
   "metadata": {},
   "outputs": [
    {
     "name": "stdout",
     "output_type": "stream",
     "text": [
      "True\n",
      "True\n",
      "True\n",
      "False\n",
      "False\n",
      "False\n",
      "False\n",
      "False\n",
      "False\n"
     ]
    }
   ],
   "source": [
    "##14. Write a Python program to match a string that contains only upper and lowercase letters, numbers, and underscores\n",
    "\n",
    "import re\n",
    "\n",
    "def myfunc(string):\n",
    "    patterns=r'^[a-zA-Z0-9_]*$'\n",
    "    array=re.findall(patterns,string)\n",
    "    return bool(array)\n",
    "\n",
    "print(myfunc(\"abbb\"))\n",
    "print(myfunc(\"aabbbbbbc\"))\n",
    "print(myfunc(\"aBbcz\"))\n",
    "print(myfunc(\"Nbbc \"))\n",
    "print(myfunc(\" ab\"))\n",
    "print(myfunc(\"aab_cbzbbc.\"))\n",
    "print(myfunc(\"Aaab_abbbc. \"))\n",
    "print(myfunc(\"The quick brown fox jumps over the lazy dog.\"))\n",
    "print(myfunc(\"Python Exercises.\"))"
   ]
  },
  {
   "cell_type": "code",
   "execution_count": 62,
   "metadata": {},
   "outputs": [
    {
     "name": "stdout",
     "output_type": "stream",
     "text": [
      "False\n",
      "False\n",
      "False\n",
      "False\n",
      "False\n",
      "False\n",
      "False\n",
      "False\n",
      "False\n",
      "True\n"
     ]
    }
   ],
   "source": [
    "##15. Write a Python program where a string will start with a specific number\n",
    "\n",
    "import re\n",
    "\n",
    "def myfunc(string):\n",
    "    patterns=r'^9'\n",
    "    array=re.findall(patterns,string)\n",
    "    return bool(array)\n",
    "\n",
    "print(myfunc(\"abbb\"))\n",
    "print(myfunc(\"aabbbbbbc\"))\n",
    "print(myfunc(\"aBbcz\"))\n",
    "print(myfunc(\"Nbbc \"))\n",
    "print(myfunc(\" ab\"))\n",
    "print(myfunc(\"aab_cbzbbc.\"))\n",
    "print(myfunc(\"Aaab_abbbc. \"))\n",
    "print(myfunc(\"The quick brown fox jumps over the lazy dog.\"))\n",
    "print(myfunc(\"Python Exercises.\"))\n",
    "print(myfunc(\"9 Python Exercises.\"))"
   ]
  },
  {
   "cell_type": "code",
   "execution_count": 75,
   "metadata": {},
   "outputs": [
    {
     "name": "stdout",
     "output_type": "stream",
     "text": [
      "216.8.94.196\n"
     ]
    }
   ],
   "source": [
    "##16. Write a Python program to remove leading zeros from an IP address\n",
    "\n",
    "import re\n",
    "\n",
    "def myfunc(string):\n",
    "    patterns=r'\\.0*'\n",
    "    array=re.sub(patterns,\".\",string)\n",
    "    return array\n",
    "\n",
    "print(myfunc(\"216.08.094.196\"))"
   ]
  },
  {
   "cell_type": "code",
   "execution_count": 80,
   "metadata": {},
   "outputs": [
    {
     "name": "stdout",
     "output_type": "stream",
     "text": [
      "False\n",
      "True\n"
     ]
    }
   ],
   "source": [
    "##17. Write a Python program to check for any number at the end of a string\n",
    "\n",
    "import re\n",
    "\n",
    "def myfunc(string):\n",
    "    patterns=r'[0-9]$'\n",
    "    array=re.findall(patterns,string)\n",
    "    return bool(array)\n",
    "\n",
    "print(myfunc('abcdef'))\n",
    "print(myfunc('abcdef6'))"
   ]
  },
  {
   "cell_type": "code",
   "execution_count": 182,
   "metadata": {},
   "outputs": [
    {
     "name": "stdout",
     "output_type": "stream",
     "text": [
      "1\n",
      "12\n",
      "13\n",
      "345\n",
      "None\n"
     ]
    }
   ],
   "source": [
    "##18. Write a Python program to search the numbers (0-9) of length between 1 to 3 in a given string\n",
    "\n",
    "import re\n",
    "\n",
    "def myfunc(string):\n",
    "    patterns=r'[0-9]{1,3}'\n",
    "    array=re.finditer(patterns,string)\n",
    "    for n in array:\n",
    "        print(n.group())\n",
    "    \n",
    "print(myfunc('Exercises number 1, 12, 13, and 345 are important'))"
   ]
  },
  {
   "cell_type": "code",
   "execution_count": 98,
   "metadata": {},
   "outputs": [
    {
     "name": "stdout",
     "output_type": "stream",
     "text": [
      "['1', '12', '13', '345']\n"
     ]
    }
   ],
   "source": [
    "##18. Write a Python program to search the numbers (0-9) of length between 1 to 3 in a given string\n",
    "\n",
    "import re\n",
    "\n",
    "def myfunc(string):\n",
    "    patterns=r'[0-9]{1,3}'\n",
    "    array=re.findall(patterns,string)\n",
    "    return array\n",
    "\n",
    "print(myfunc('Exercises number 1, 12, 13, and 345 are important'))"
   ]
  },
  {
   "cell_type": "code",
   "execution_count": 116,
   "metadata": {},
   "outputs": [
    {
     "name": "stdout",
     "output_type": "stream",
     "text": [
      "matched\n",
      "matched\n",
      "not matched\n"
     ]
    }
   ],
   "source": [
    "##19. Write a Python program to search some literals strings in a string.\n",
    "##Sample text : 'The quick brown fox jumps over the lazy dog.'\n",
    "##Searched words : 'fox', 'dog', 'horse'\n",
    "\n",
    "import re\n",
    "\n",
    "sword=['fox','dog','horse']\n",
    "string='The quick brown fox jumps over the lazy dog.'\n",
    "\n",
    "for word in sword:\n",
    "    array=re.search(word,string)\n",
    "    if array:\n",
    "        print(\"matched\")\n",
    "    else:\n",
    "        print(\"not matched\")"
   ]
  },
  {
   "cell_type": "code",
   "execution_count": 120,
   "metadata": {},
   "outputs": [
    {
     "name": "stdout",
     "output_type": "stream",
     "text": [
      "(16, 19) 16 19\n"
     ]
    }
   ],
   "source": [
    "##20. Write a Python program to search a literals string in a string and also find the location within the original string where the pattern occurs\n",
    "##Sample text : 'The quick brown fox jumps over the lazy dog.'\n",
    "##Searched words : 'fox'\n",
    "\n",
    "import re\n",
    "\n",
    "sword='fox'\n",
    "string='The quick brown fox jumps over the lazy dog.'\n",
    "\n",
    "array=re.search(sword,string)\n",
    "\n",
    "s=array.start()\n",
    "e=array.end()\n",
    "\n",
    "print(array.span(),s,e)"
   ]
  },
  {
   "cell_type": "code",
   "execution_count": 187,
   "metadata": {},
   "outputs": [
    {
     "name": "stdout",
     "output_type": "stream",
     "text": [
      "exercises\n",
      "exercises\n",
      "exercises\n",
      "None\n"
     ]
    }
   ],
   "source": [
    "##21. Write a Python program to find the substrings within a string\n",
    "##Sample text :'Python exercises, PHP exercises, C# exercises'\n",
    "##Pattern :'exercises'\n",
    "\n",
    "import re\n",
    "\n",
    "##string='Python exercises, PHP exercises, C# exercises'\n",
    "\n",
    "def myfunc(string):\n",
    "    patterns=r'exercises'\n",
    "    array=re.findall(patterns,string)\n",
    "    for match in array:\n",
    "        print(match)\n",
    "    \n",
    "print(myfunc('Python exercises, PHP exercises, C# exercises'))"
   ]
  },
  {
   "cell_type": "code",
   "execution_count": 150,
   "metadata": {},
   "outputs": [
    {
     "name": "stdout",
     "output_type": "stream",
     "text": [
      "exercises 7 16\n",
      "exercises 22 31\n",
      "exercises 36 45\n"
     ]
    }
   ],
   "source": [
    "##22. Write a Python program to find the occurrence and position of the substrings within a string\n",
    "\n",
    "import re\n",
    "\n",
    "patterns=r'exercises'\n",
    "string='Python exercises, PHP exercises, C# exercises'\n",
    "\n",
    "array=re.finditer(patterns,string)\n",
    "for n in array:\n",
    "    s=n.start()\n",
    "    e=n.end()\n",
    "    print(n.group(),s,e)"
   ]
  },
  {
   "cell_type": "code",
   "execution_count": 240,
   "metadata": {},
   "outputs": [
    {
     "data": {
      "text/plain": [
       "'The_quick_brown_fox_jumps_over_the_lazy_dog.'"
      ]
     },
     "execution_count": 240,
     "metadata": {},
     "output_type": "execute_result"
    }
   ],
   "source": [
    "##23. Write a Python program to replace whitespaces with an underscore and vice versa\n",
    "\n",
    "import re\n",
    "\n",
    "def myfunc(string):\n",
    "    patterns=r'\\s'\n",
    "    sub=\"_\"\n",
    "    array=re.sub(patterns,sub,string)\n",
    "    return array\n",
    "\n",
    "myfunc('The quick brown fox jumps over the lazy dog.')"
   ]
  },
  {
   "cell_type": "code",
   "execution_count": 162,
   "metadata": {},
   "outputs": [
    {
     "name": "stdout",
     "output_type": "stream",
     "text": [
      "[('2016', '09', '02')]\n"
     ]
    }
   ],
   "source": [
    "##24. Write a Python program to extract year, month and date from a an url\n",
    "\n",
    "import re\n",
    "\n",
    "def myfunc(string):\n",
    "    patterns=r'/(\\d{4})/(\\d{1,2})/(\\d{2})/'\n",
    "    array=re.findall(patterns,string)\n",
    "    return array\n",
    "        \n",
    "print(myfunc(\"https://www.washingtonpost.com/news/football-insider/wp/2016/09/02/odell-beckhams-fame-rests-on-one-stupid-little-ball-josh-norman-tells-author/\"))"
   ]
  },
  {
   "cell_type": "code",
   "execution_count": 239,
   "metadata": {},
   "outputs": [
    {
     "data": {
      "text/plain": [
       "'29-01-2020'"
      ]
     },
     "execution_count": 239,
     "metadata": {},
     "output_type": "execute_result"
    }
   ],
   "source": [
    "##25. Write a Python program to convert a date of yyyy-mm-dd format to dd-mm-yyyy format\n",
    "\n",
    "import re\n",
    "\n",
    "def myfunc(string):\n",
    "    patterns=r'(\\d{4})-(\\d{1,2})-(\\d{1,2})'\n",
    "    sub=\"\\\\3-\\\\2-\\\\1\"\n",
    "    array=re.sub(patterns,sub,string)\n",
    "    return array\n",
    "\n",
    "myfunc(\"2020-01-29\")"
   ]
  },
  {
   "cell_type": "code",
   "execution_count": 238,
   "metadata": {},
   "outputs": [
    {
     "data": {
      "text/plain": [
       "['Python', 'PHP']"
      ]
     },
     "execution_count": 238,
     "metadata": {},
     "output_type": "execute_result"
    }
   ],
   "source": [
    "##26. Write a Python program to match if two words from a list of words starting with letter 'P'\n",
    "\n",
    "import re\n",
    "\n",
    "def myfunc(string):\n",
    "    patterns=r'P\\w+'\n",
    "    array=re.findall(patterns,string)\n",
    "    return array\n",
    "            \n",
    "myfunc('Python exercises, PHP exercises, C# exercises')"
   ]
  },
  {
   "cell_type": "code",
   "execution_count": 237,
   "metadata": {},
   "outputs": [
    {
     "name": "stdout",
     "output_type": "stream",
     "text": [
      "10\n",
      "20\n",
      "30\n"
     ]
    }
   ],
   "source": [
    "##27. Write a Python program to separate and print the numbers of a given string\n",
    "\n",
    "import re\n",
    "\n",
    "def myfunc(string):\n",
    "    patterns=r'\\d+'\n",
    "    array=re.findall(patterns,string)\n",
    "    for n in array:\n",
    "        print(n)\n",
    "                    \n",
    "myfunc(\"Ten 10, Twenty 20, Thirty 30\")"
   ]
  },
  {
   "cell_type": "code",
   "execution_count": 260,
   "metadata": {},
   "outputs": [
    {
     "name": "stdout",
     "output_type": "stream",
     "text": [
      "['example', 'eates', 'an', 'ayList', 'apacity', 'elements', 'elements', 'are', 'en', 'added', 'ayList', 'and', 'ayList', 'ed', 'accordingly']\n"
     ]
    }
   ],
   "source": [
    "##28. Write a Python program to find all words starting with 'a' or 'e' in a given string\n",
    "\n",
    "import re\n",
    "\n",
    "def myfunc(string):\n",
    "    patterns=r'[ae]\\w+'\n",
    "    array=re.findall(patterns,string)\n",
    "    print(array)\n",
    "\n",
    "myfunc(\"The following example creates an ArrayList with a capacity of 50 elements. Four elements are then added to the ArrayList and the ArrayList is trimmed accordingly.\")"
   ]
  },
  {
   "cell_type": "code",
   "execution_count": 273,
   "metadata": {},
   "outputs": [
    {
     "name": "stdout",
     "output_type": "stream",
     "text": [
      "The number is 50 and the start position is 62\n"
     ]
    }
   ],
   "source": [
    "##29. Write a Python program to separate and print the numbers and their position of a given string\n",
    "\n",
    "import re\n",
    "\n",
    "def myfunc(string):\n",
    "    patterns=r'\\d.'\n",
    "    array=re.search(patterns,string)\n",
    "    print(\"The number is\", array.group(), \"and the start position is\", array.start())\n",
    "    \n",
    "myfunc(\"The following example creates an ArrayList with a capacity of 50 elements. Four elements are then added to the ArrayList and the ArrayList is trimmed accordingly.\")"
   ]
  },
  {
   "cell_type": "code",
   "execution_count": 283,
   "metadata": {},
   "outputs": [
    {
     "data": {
      "text/plain": [
       "'21 Ramkrishna Rd.'"
      ]
     },
     "execution_count": 283,
     "metadata": {},
     "output_type": "execute_result"
    }
   ],
   "source": [
    "##30. Write a Python program to abbreviate 'Road' as 'Rd.' in a given string\n",
    "\n",
    "import re\n",
    "\n",
    "def myfunc(string):\n",
    "    patterns=r'Road'\n",
    "    sub=\"Rd.\"\n",
    "    array=re.sub(patterns,sub,string)\n",
    "    return array\n",
    "\n",
    "myfunc('21 Ramkrishna Road')"
   ]
  },
  {
   "cell_type": "code",
   "execution_count": 294,
   "metadata": {},
   "outputs": [
    {
     "data": {
      "text/plain": [
       "'Python:Exercises::PHP:exercises:'"
      ]
     },
     "execution_count": 294,
     "metadata": {},
     "output_type": "execute_result"
    }
   ],
   "source": [
    "##31. Write a Python program to replace all occurrences of space, comma, or dot with a colon\n",
    "\n",
    "import re\n",
    "\n",
    "def myfunc(string):\n",
    "    patterns=r'[\\s.,]'\n",
    "    sub=\":\"\n",
    "    array=re.sub(patterns,sub,string)\n",
    "    return array\n",
    "\n",
    "myfunc('Python Exercises, PHP exercises.')"
   ]
  },
  {
   "cell_type": "code",
   "execution_count": 299,
   "metadata": {},
   "outputs": [
    {
     "data": {
      "text/plain": [
       "'Python:Exercises: PHP exercises.'"
      ]
     },
     "execution_count": 299,
     "metadata": {},
     "output_type": "execute_result"
    }
   ],
   "source": [
    "##32. Write a Python program to replace maximum 2 occurrences of space, comma, or dot with a colon\n",
    "\n",
    "import re\n",
    "\n",
    "def myfunc(string):\n",
    "    patterns=r'[\\s.,]'\n",
    "    sub=\":\"\n",
    "    array=re.sub(patterns,sub,string,2)\n",
    "    return array\n",
    "\n",
    "myfunc('Python Exercises, PHP exercises.')"
   ]
  },
  {
   "cell_type": "code",
   "execution_count": 307,
   "metadata": {},
   "outputs": [
    {
     "data": {
      "text/plain": [
       "['quick', 'brown', 'jumps']"
      ]
     },
     "execution_count": 307,
     "metadata": {},
     "output_type": "execute_result"
    }
   ],
   "source": [
    "##33. Write a Python program to find all five characters long word in a string\n",
    "\n",
    "import re\n",
    "\n",
    "def myfunc(string):\n",
    "    patterns=r'\\b\\w{5}\\b'\n",
    "    array=re.findall(patterns,string)\n",
    "    return array\n",
    "\n",
    "myfunc(\"The quick brown fox jumps over the lazy dog.\")"
   ]
  },
  {
   "cell_type": "code",
   "execution_count": 309,
   "metadata": {},
   "outputs": [
    {
     "data": {
      "text/plain": [
       "['The', 'quick', 'brown', 'fox', 'jumps', 'over', 'the', 'lazy', 'dog']"
      ]
     },
     "execution_count": 309,
     "metadata": {},
     "output_type": "execute_result"
    }
   ],
   "source": [
    "##34. Write a Python program to find all three, four, five characters long words in a string\n",
    "\n",
    "import re\n",
    "\n",
    "def myfunc(string):\n",
    "    patterns=r'\\b\\w{3,5}\\b'\n",
    "    array=re.findall(patterns,string)\n",
    "    return array\n",
    "\n",
    "myfunc(\"The quick brown fox jumps over the lazy dog.\")"
   ]
  },
  {
   "cell_type": "code",
   "execution_count": 310,
   "metadata": {},
   "outputs": [
    {
     "data": {
      "text/plain": [
       "['quick', 'brown', 'jumps', 'over', 'lazy']"
      ]
     },
     "execution_count": 310,
     "metadata": {},
     "output_type": "execute_result"
    }
   ],
   "source": [
    "##35. Write a Python program to find all words which are at least 4 characters long in a string\n",
    "\n",
    "import re\n",
    "\n",
    "def myfunc(string):\n",
    "    patterns=r'\\b\\w{4,}\\b'\n",
    "    array=re.findall(patterns,string)\n",
    "    return array\n",
    "\n",
    "myfunc(\"The quick brown fox jumps over the lazy dog.\")"
   ]
  },
  {
   "cell_type": "code",
   "execution_count": 315,
   "metadata": {},
   "outputs": [
    {
     "data": {
      "text/plain": [
       "'Python_Exercises'"
      ]
     },
     "execution_count": 315,
     "metadata": {},
     "output_type": "execute_result"
    }
   ],
   "source": [
    "##36. Write a python program to convert camel case string to snake case string\n",
    "\n",
    "import re\n",
    "\n",
    "def myfunc(string):\n",
    "    patterns=r'(.)(\\B[A-Z])'\n",
    "    sub='\\\\1_\\\\2'\n",
    "    array=re.sub(patterns,sub,string)\n",
    "    return array\n",
    "\n",
    "myfunc(\"PythonExercises\")"
   ]
  },
  {
   "cell_type": "code",
   "execution_count": 393,
   "metadata": {},
   "outputs": [
    {
     "data": {
      "text/plain": [
       "'PythonExercises'"
      ]
     },
     "execution_count": 393,
     "metadata": {},
     "output_type": "execute_result"
    }
   ],
   "source": [
    "##37. Write a python program to convert snake case string to camel case string\n",
    "\n",
    "import re\n",
    "\n",
    "def myfunc(string):\n",
    "        return ''.join(x.capitalize() or '_' for x in string.split('_'))\n",
    "\n",
    "myfunc(\"python_exercises\")"
   ]
  },
  {
   "cell_type": "code",
   "execution_count": 414,
   "metadata": {},
   "outputs": [
    {
     "data": {
      "text/plain": [
       "['Python', 'PHP', 'Java']"
      ]
     },
     "execution_count": 414,
     "metadata": {},
     "output_type": "execute_result"
    }
   ],
   "source": [
    "##38. Write a Python program to extract values between quotation marks of a string\n",
    "\n",
    "import re\n",
    "\n",
    "def myfunc(string):\n",
    "    patterns=r'\"(.*?)\"'\n",
    "    array=re.findall(patterns,string)\n",
    "    return array\n",
    "\n",
    "myfunc('\"Python\", \"PHP\", \"Java\"')"
   ]
  },
  {
   "cell_type": "code",
   "execution_count": 421,
   "metadata": {},
   "outputs": [
    {
     "data": {
      "text/plain": [
       "'Python Exercises'"
      ]
     },
     "execution_count": 421,
     "metadata": {},
     "output_type": "execute_result"
    }
   ],
   "source": [
    "##39. Write a Python program to remove multiple spaces in a string\n",
    "\n",
    "import re\n",
    "\n",
    "def myfunc(string):\n",
    "    patterns=r'\\s+'\n",
    "    sub=\" \"\n",
    "    array=re.sub(patterns,sub,string)\n",
    "    return array\n",
    "\n",
    "myfunc('Python     Exercises')"
   ]
  },
  {
   "cell_type": "code",
   "execution_count": 422,
   "metadata": {},
   "outputs": [
    {
     "data": {
      "text/plain": [
       "'PythonExercises'"
      ]
     },
     "execution_count": 422,
     "metadata": {},
     "output_type": "execute_result"
    }
   ],
   "source": [
    "##40. Write a Python program to remove all whitespaces from a string\n",
    "\n",
    "import re\n",
    "\n",
    "def myfunc(string):\n",
    "    patterns=r'\\s'\n",
    "    sub=\"\"\n",
    "    array=re.sub(patterns,sub,string)\n",
    "    return array\n",
    "\n",
    "myfunc('Python     Exercises')"
   ]
  },
  {
   "cell_type": "code",
   "execution_count": 424,
   "metadata": {},
   "outputs": [
    {
     "data": {
      "text/plain": [
       "'PythonExercises12'"
      ]
     },
     "execution_count": 424,
     "metadata": {},
     "output_type": "execute_result"
    }
   ],
   "source": [
    "##41. Write a Python program to remove everything except alphanumeric characters from a string\n",
    "\n",
    "import re\n",
    "\n",
    "def myfunc(string):\n",
    "    patterns=r'[^a-zA-Z0-9]'\n",
    "    sub=\"\"\n",
    "    array=re.sub(patterns,sub,string)\n",
    "    return array\n",
    "\n",
    "myfunc('**//Python Exercises// - 12. ')"
   ]
  },
  {
   "cell_type": "code",
   "execution_count": 24,
   "metadata": {},
   "outputs": [
    {
     "data": {
      "text/plain": [
       "['https://w3resource.com', 'http://github.com']"
      ]
     },
     "execution_count": 24,
     "metadata": {},
     "output_type": "execute_result"
    }
   ],
   "source": [
    "##42. Write a Python program to find urls in a string\n",
    "## [RS] this assumes the suffix of url is .com\n",
    "\n",
    "import re\n",
    "\n",
    "def myfunc(string):\n",
    "    patterns=r'(https?://\\S+com\\b)'\n",
    "    array=re.findall(patterns,string)\n",
    "    return array\n",
    "\n",
    "myfunc('<p>Contents :</p><a href=\"https://w3resource.com\">Python Examples</a><a href=\"http://github.com\">Even More Examples</a>')"
   ]
  },
  {
   "cell_type": "code",
   "execution_count": 39,
   "metadata": {},
   "outputs": [
    {
     "data": {
      "text/plain": [
       "['Python', 'Tutorial', 'And', 'Exercises']"
      ]
     },
     "execution_count": 39,
     "metadata": {},
     "output_type": "execute_result"
    }
   ],
   "source": [
    "##43. Write a Python program to split a string at uppercase letters.\n",
    "\n",
    "import re\n",
    "\n",
    "def myfunc(string):\n",
    "    patterns=r'[A-Z][^A-Z]*'\n",
    "    array=re.findall(patterns,string)\n",
    "    return array\n",
    "\n",
    "myfunc(\"PythonTutorialAndExercises\")\n",
    "\n",
    "## [RS] [^A-Z] means excluding capital words"
   ]
  },
  {
   "cell_type": "code",
   "execution_count": 50,
   "metadata": {},
   "outputs": [
    {
     "data": {
      "text/plain": [
       "'pythonTutorialAndExercises'"
      ]
     },
     "execution_count": 50,
     "metadata": {},
     "output_type": "execute_result"
    }
   ],
   "source": [
    "##44. Write a Python program to do a case-insensitive string replacement\n",
    "\n",
    "import re\n",
    "\n",
    "def myfunc(string):\n",
    "    patterns=r'p'\n",
    "    sub=\"p\"\n",
    "    array=re.sub(patterns,sub,string,flags=re.IGNORECASE)\n",
    "    return array\n",
    "\n",
    "myfunc(\"PythonTutorialAndExercises\")\n",
    "\n",
    "##re.IGNORECASE can be written as re.I"
   ]
  },
  {
   "cell_type": "code",
   "execution_count": 55,
   "metadata": {},
   "outputs": [
    {
     "name": "stdout",
     "output_type": "stream",
     "text": [
      "\tgoogle.com 216.58.218.206\n"
     ]
    }
   ],
   "source": [
    "##45. Write a Python program to remove the ANSI escape sequences from a string\n",
    "##[RS] copied from Stackoverflow\n",
    "\n",
    "import re\n",
    "string =\"\\t\\u001b[0;35mgoogle.com\\u001b[0m \\u001b[0;36m216.58.218.206\\u001b[0m\"\n",
    "\n",
    "# 7-bit C1 ANSI sequences\n",
    "ansi_escape = re.compile(r'''\n",
    "    \\x1B  # ESC\n",
    "    (?:   # 7-bit C1 Fe (except CSI)\n",
    "        [@-Z\\\\-_]\n",
    "    |     # or [ for CSI, followed by a control sequence\n",
    "        \\[\n",
    "        [0-?]*  # Parameter bytes\n",
    "        [ -/]*  # Intermediate bytes\n",
    "        [@-~]   # Final byte\n",
    "    )\n",
    "''', re.VERBOSE)\n",
    "result = ansi_escape.sub('', string)\n",
    "print(result)"
   ]
  },
  {
   "cell_type": "code",
   "execution_count": 59,
   "metadata": {},
   "outputs": [
    {
     "data": {
      "text/plain": [
       "['Clearly']"
      ]
     },
     "execution_count": 59,
     "metadata": {},
     "output_type": "execute_result"
    }
   ],
   "source": [
    "##46. Write a Python program to find all adverbs and their positions in a given sentence\n",
    "\n",
    "import re\n",
    "\n",
    "def myfunc(string):\n",
    "    patterns=r'\\w+ly'\n",
    "    array=re.findall(patterns,string)\n",
    "    return array\n",
    "\n",
    "myfunc(\"Clearly, he has no excuse for such behavior\")"
   ]
  },
  {
   "cell_type": "code",
   "execution_count": 68,
   "metadata": {},
   "outputs": [
    {
     "data": {
      "text/plain": [
       "['The quick brown', 'fox jumps', 'over the lazy dog']"
      ]
     },
     "execution_count": 68,
     "metadata": {},
     "output_type": "execute_result"
    }
   ],
   "source": [
    "##47. Write a Python program to split a string with multiple delimiters\n",
    "\n",
    "import re\n",
    "\n",
    "def myfunc(string):\n",
    "    patterns=r'\\*|\\n|\\,|\\;'\n",
    "    array=re.split(patterns,string)\n",
    "    return array\n",
    "\n",
    "myfunc(\"The quick brown\\nfox jumps*over the lazy dog\")"
   ]
  },
  {
   "cell_type": "code",
   "execution_count": 82,
   "metadata": {},
   "outputs": [
    {
     "name": "stdout",
     "output_type": "stream",
     "text": [
      "True\n",
      "True\n",
      "False\n",
      "True\n",
      "False\n",
      "False\n",
      "True\n"
     ]
    }
   ],
   "source": [
    "##48. Write a Python program to check a decimal with a precision of 2.\n",
    "\n",
    "import re\n",
    "\n",
    "def myfunc(string):\n",
    "    patterns=r'[0-9]+\\.[0-9]{1,2}$'\n",
    "    array=re.findall(patterns,string)\n",
    "    return bool(array)\n",
    "\n",
    "print(myfunc('123.11'))\n",
    "print(myfunc('123.1'))\n",
    "print(myfunc('123'))\n",
    "print(myfunc('0.21'))\n",
    "\n",
    "print(myfunc('123.1214'))\n",
    "print(myfunc('3.124587'))\n",
    "print(myfunc('666.86'))"
   ]
  },
  {
   "cell_type": "code",
   "execution_count": 96,
   "metadata": {},
   "outputs": [
    {
     "data": {
      "text/plain": [
       "' quick brown  jumps over  lazy '"
      ]
     },
     "execution_count": 96,
     "metadata": {},
     "output_type": "execute_result"
    }
   ],
   "source": [
    "##49. Write a Python program to remove words from a string of length between 1 and a given number\n",
    "\n",
    "import re\n",
    "\n",
    "def myfunc(string):\n",
    "    patterns=r'\\b\\w{1,3}\\b'\n",
    "    sub=\"\"\n",
    "    array=re.sub(patterns,sub,string)\n",
    "    return array\n",
    "\n",
    "myfunc(\"The quick brown fox jumps over the lazy dog\")"
   ]
  },
  {
   "cell_type": "code",
   "execution_count": 115,
   "metadata": {},
   "outputs": [
    {
     "name": "stdout",
     "output_type": "stream",
     "text": [
      "example .com\n",
      "w3resource\n",
      "github .com\n",
      "stackoverflow .com\n"
     ]
    }
   ],
   "source": [
    "##50. Write a Python program to remove the parenthesis area in a string. \n",
    "\n",
    "import re\n",
    "\n",
    "def myfunc(string):\n",
    "    patterns=r'\\(|\\)'\n",
    "    sub=\"\"\n",
    "    for word in string:\n",
    "        array=re.sub(patterns,sub,word)\n",
    "        print(array)\n",
    "\n",
    "myfunc([\"example (.com)\", \"w3resource\", \"github (.com)\", \"stackoverflow (.com)\"])"
   ]
  },
  {
   "cell_type": "code",
   "execution_count": 143,
   "metadata": {},
   "outputs": [
    {
     "data": {
      "text/plain": [
       "'Python Exercises Practice Solution'"
      ]
     },
     "execution_count": 143,
     "metadata": {},
     "output_type": "execute_result"
    }
   ],
   "source": [
    "##51. Write a Python program to insert spaces between words starting with capital letters\n",
    "\n",
    "\n",
    "import re\n",
    "\n",
    "def myfunc(string):\n",
    "    patterns=r'[A-Z][^A-Z]*'\n",
    "    array=re.findall(patterns,string)\n",
    "    #return array\n",
    "    return \" \".join(array)\n",
    "\n",
    "\"\"\"\n",
    "Alternate code:\n",
    "\n",
    "import re\n",
    "\n",
    "def myfunc(string):\n",
    "    patterns=r'(\\w)([A-Z])'\n",
    "    sub=\"\\\\1 \\\\2\"\n",
    "    array=re.sub(patterns,sub,string)\n",
    "    return array\n",
    "    #return \" \".join(array)\n",
    "\n",
    "\"\"\"\n",
    "\n",
    "myfunc(\"PythonExercisesPracticeSolution\")"
   ]
  },
  {
   "cell_type": "code",
   "execution_count": 144,
   "metadata": {},
   "outputs": [
    {
     "data": {
      "text/plain": [
       "'KDALOOOHLAJSI'"
      ]
     },
     "execution_count": 144,
     "metadata": {},
     "output_type": "execute_result"
    }
   ],
   "source": [
    "##53. Write a Python program to remove lowercase substrings from a given string\n",
    "\n",
    "\n",
    "import re\n",
    "\n",
    "def myfunc(string):\n",
    "    patterns=r'[a-z]'\n",
    "    sub=\"\"\n",
    "    array=re.sub(patterns,sub,string)\n",
    "    return array\n",
    "\n",
    "myfunc('KDeoALOklOOHserfLoAJSIskdsf')"
   ]
  }
 ],
 "metadata": {
  "kernelspec": {
   "display_name": "Python 3",
   "language": "python",
   "name": "python3"
  },
  "language_info": {
   "codemirror_mode": {
    "name": "ipython",
    "version": 3
   },
   "file_extension": ".py",
   "mimetype": "text/x-python",
   "name": "python",
   "nbconvert_exporter": "python",
   "pygments_lexer": "ipython3",
   "version": "3.7.4"
  }
 },
 "nbformat": 4,
 "nbformat_minor": 2
}
