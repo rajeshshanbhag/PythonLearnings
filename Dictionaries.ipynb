{
 "cells": [
  {
   "cell_type": "markdown",
   "metadata": {},
   "source": [
    "# DICTIONARIES"
   ]
  },
  {
   "cell_type": "raw",
   "metadata": {},
   "source": [
    "## tEST"
   ]
  },
  {
   "cell_type": "code",
   "execution_count": 8,
   "metadata": {},
   "outputs": [
    {
     "name": "stdout",
     "output_type": "stream",
     "text": [
      "{0: 10, 1: 20, 2: 30}\n",
      "{0: 10, 1: 20, 2: 35}\n"
     ]
    }
   ],
   "source": [
    "\"\"\"\n",
    "add key to dictionary\n",
    "\n",
    "Sample Dictionary : {0: 10, 1: 20}\n",
    "Expected Result : {0: 10, 1: 20, 2: 30}\n",
    "\n",
    "\"\"\"\n",
    "\n",
    "d={0: 10, 1: 20}\n",
    "d[2]=30\n",
    "print(d)\n",
    "\n",
    "e={0: 10, 1: 20}\n",
    "e.update({2:35})\n",
    "print(e)"
   ]
  },
  {
   "cell_type": "code",
   "execution_count": 57,
   "metadata": {},
   "outputs": [
    {
     "name": "stdout",
     "output_type": "stream",
     "text": [
      "{0: 0, 2: 1, 1: 2, 4: 3, 3: 4}\n",
      "[(0, 0), (2, 1), (1, 2), (4, 3), (3, 4)]\n",
      "{0: 0, 2: 1, 1: 2, 4: 3, 3: 4}\n",
      "{0: 0, 2: 1, 1: 2, 4: 3, 3: 4}\n"
     ]
    }
   ],
   "source": [
    "\"\"\"\n",
    "Print dictionary sorted by value in ascending order\n",
    "\n",
    "\"\"\"\n",
    "\n",
    "x = {1: 2, 3: 4, 4: 3, 2: 1, 0: 0}\n",
    "print({k:v for k, v in sorted(x.items(), key=lambda item: item[1])})\n",
    "\n",
    "\n",
    "y = {1: 2, 3: 4, 4: 3, 2: 1, 0: 0}\n",
    "print(sorted(x.items(), key=lambda item: item[1]))\n",
    "\n",
    "import operator\n",
    "d = {1: 2, 3: 4, 4: 3, 2: 1, 0: 0}\n",
    "sorted_d = dict(sorted(d.items(), key=operator.itemgetter(1)))\n",
    "print(sorted_d)\n",
    "\n",
    "b = {1: 2, 3: 4, 4: 3, 2: 1, 0: 0}\n",
    "print(dict(sorted(b.items(), key=lambda item: item[1])))"
   ]
  },
  {
   "cell_type": "code",
   "execution_count": 46,
   "metadata": {},
   "outputs": [
    {
     "name": "stdout",
     "output_type": "stream",
     "text": [
      "{1: 10, 2: 20, 3: 30, 4: 40, 5: 50, 6: 60}\n",
      "{1: 10, 2: 20, 3: 30, 4: 40, 5: 50, 6: 60}\n"
     ]
    }
   ],
   "source": [
    "\"\"\"\n",
    "\n",
    "Write a Python script to concatenate following dictionaries to create a new one.\n",
    "\n",
    "Sample Dictionary :\n",
    "dic1={1:10, 2:20}\n",
    "dic2={3:30, 4:40}\n",
    "dic3={5:50,6:60}\n",
    "Expected Result : {1: 10, 2: 20, 3: 30, 4: 40, 5: 50, 6: 60}\n",
    "\n",
    "\"\"\"\n",
    "d=dict()\n",
    "dic1={1:10, 2:20}\n",
    "dic2={3:30, 4:40}\n",
    "dic3={5:50, 6:60}\n",
    "for i in (dic1, dic2, dic3):\n",
    "    d.update(i)\n",
    "print(d)\n",
    "\n",
    "#ALTERNATE>>\n",
    "\n",
    "d1={**dic1,**dic2,**dic3}\n",
    "print(d1)"
   ]
  },
  {
   "cell_type": "code",
   "execution_count": 52,
   "metadata": {},
   "outputs": [
    {
     "name": "stdout",
     "output_type": "stream",
     "text": [
      "yes\n"
     ]
    }
   ],
   "source": [
    "\"\"\"\n",
    "Write a Python script to check whether a given key already exists in a dictionary.\n",
    "d = {1: 10, 2: 20, 3: 30, 4: 40, 5: 50, 6: 60}\n",
    "\"\"\"\n",
    "\n",
    "d = {1: 10, 2: 20, 3: 30, 4: 40, 5: 50, 6: 60}\n",
    "\n",
    "if 2 in d:\n",
    "    print(\"yes\")\n",
    "else:\n",
    "    print(\"no\")"
   ]
  },
  {
   "cell_type": "code",
   "execution_count": 56,
   "metadata": {},
   "outputs": [
    {
     "name": "stdout",
     "output_type": "stream",
     "text": [
      "x : 10\n",
      "y : 20\n",
      "z : 30\n"
     ]
    }
   ],
   "source": [
    "d = {'x': 10, 'y': 20, 'z': 30} \n",
    "for k,v in d.items():\n",
    "    print(k,':',v)    "
   ]
  },
  {
   "cell_type": "code",
   "execution_count": null,
   "metadata": {},
   "outputs": [],
   "source": []
  }
 ],
 "metadata": {
  "kernelspec": {
   "display_name": "Python 3",
   "language": "python",
   "name": "python3"
  },
  "language_info": {
   "codemirror_mode": {
    "name": "ipython",
    "version": 3
   },
   "file_extension": ".py",
   "mimetype": "text/x-python",
   "name": "python",
   "nbconvert_exporter": "python",
   "pygments_lexer": "ipython3",
   "version": "3.7.3"
  }
 },
 "nbformat": 4,
 "nbformat_minor": 2
}
