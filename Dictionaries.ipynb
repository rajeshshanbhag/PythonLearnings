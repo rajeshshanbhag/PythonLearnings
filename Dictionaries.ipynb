{
 "cells": [
  {
   "cell_type": "markdown",
   "metadata": {},
   "source": [
    "# DICTIONARIES"
   ]
  },
  {
   "cell_type": "code",
   "execution_count": 121,
   "metadata": {},
   "outputs": [
    {
     "name": "stdout",
     "output_type": "stream",
     "text": [
      "{}\n"
     ]
    }
   ],
   "source": [
    "\"\"\"\n",
    "CREATE new dictionary\n",
    "\"\"\"\n",
    "d=dict()\n",
    "print(d)"
   ]
  },
  {
   "cell_type": "code",
   "execution_count": 127,
   "metadata": {},
   "outputs": [
    {
     "name": "stdout",
     "output_type": "stream",
     "text": [
      "{'key1': (0, 1, 2), 'key2': (0, 1, 2), 'key3': (0, 1, 2)}\n",
      "{'key1': 0, 'key2': 0, 'key3': 0}\n"
     ]
    }
   ],
   "source": [
    "\"\"\"\n",
    "FROMKEYS\n",
    "\"\"\"\n",
    "\n",
    "x = ('key1', 'key2', 'key3')\n",
    "y = (0,1,2)\n",
    "z=0\n",
    "\n",
    "thisdict = dict.fromkeys(x, y)\n",
    "thatdict = dict.fromkeys(x, z)\n",
    "\n",
    "print(thisdict)\n",
    "print(thatdict)"
   ]
  },
  {
   "cell_type": "code",
   "execution_count": 148,
   "metadata": {},
   "outputs": [
    {
     "name": "stdout",
     "output_type": "stream",
     "text": [
      "{1: 1, 2: 4, 3: 9, 4: 16, 5: 25, 6: 36, 7: 49, 8: 64, 9: 81, 10: 100}\n"
     ]
    }
   ],
   "source": [
    "\"\"\"\n",
    "Create new Dictionary where value = square of key\n",
    "\"\"\"\n",
    "\n",
    "n=10\n",
    "m={i:i*i for i in range(1,n+1)}\n",
    "print(m)"
   ]
  },
  {
   "cell_type": "code",
   "execution_count": 140,
   "metadata": {},
   "outputs": [
    {
     "name": "stdout",
     "output_type": "stream",
     "text": [
      "{1: 2, 3: 4, 4: 3, 2: 1, 0: 0, 21: 22}\n",
      "{1: 2, 3: 4, 4: 3, 2: 1, 0: 0}\n",
      "{1: 2, 3: 4, 4: 3, 2: 1}\n",
      "{1: 2, 3: 4, 4: 3}\n",
      "{1: 2, 3: 4, 4: 19}\n",
      "11\n",
      "{1: 2, 3: 4, 4: 19, 8: 11}\n",
      "{1: 2, 3: 4, 4: 19, 8: 11, 31: 33}\n",
      "{}\n"
     ]
    },
    {
     "ename": "NameError",
     "evalue": "name 'd' is not defined",
     "output_type": "error",
     "traceback": [
      "\u001b[1;31m---------------------------------------------------------------------------\u001b[0m",
      "\u001b[1;31mNameError\u001b[0m                                 Traceback (most recent call last)",
      "\u001b[1;32m<ipython-input-140-57cac47b8024>\u001b[0m in \u001b[0;36m<module>\u001b[1;34m\u001b[0m\n\u001b[0;32m     39\u001b[0m \u001b[1;33m\u001b[0m\u001b[0m\n\u001b[0;32m     40\u001b[0m \u001b[1;32mdel\u001b[0m \u001b[0md\u001b[0m\u001b[1;33m\u001b[0m\u001b[1;33m\u001b[0m\u001b[0m\n\u001b[1;32m---> 41\u001b[1;33m \u001b[0mprint\u001b[0m\u001b[1;33m(\u001b[0m\u001b[0md\u001b[0m\u001b[1;33m)\u001b[0m\u001b[1;33m\u001b[0m\u001b[1;33m\u001b[0m\u001b[0m\n\u001b[0m",
      "\u001b[1;31mNameError\u001b[0m: name 'd' is not defined"
     ]
    }
   ],
   "source": [
    "\"\"\"\n",
    "MODIFY Dictionary\n",
    "\"\"\"\n",
    "\n",
    "d = {1: 2, 3: 4, 4: 3, 2: 1, 0: 0}\n",
    "\n",
    "#ADD\n",
    "d[21]=22\n",
    "print(d)\n",
    "\n",
    "#REMOVE\n",
    "d.pop(21)\n",
    "print(d)\n",
    "\n",
    "#REMOVE last added item\n",
    "d.popitem()\n",
    "print(d)\n",
    "\n",
    "del d[2]\n",
    "print(d)\n",
    "\n",
    "#Change\n",
    "d[4]=19\n",
    "print(d)\n",
    "\n",
    "#set default if key does not exist\n",
    "print(d.setdefault(8,11))\n",
    "\n",
    "#set default adds the k,v combination\n",
    "print(d)\n",
    "\n",
    "#Insert item\n",
    "d.update({31:33})\n",
    "print(d)\n",
    "\n",
    "#CLEAR or EMPTY\n",
    "d.clear()\n",
    "print(d)\n",
    "\n",
    "del d\n",
    "print(d)"
   ]
  },
  {
   "cell_type": "code",
   "execution_count": 141,
   "metadata": {},
   "outputs": [
    {
     "name": "stdout",
     "output_type": "stream",
     "text": [
      "3\n",
      "3\n",
      "11\n",
      "{1: 2, 3: 4, 4: 3, 2: 1, 0: 0, 8: 11}\n"
     ]
    }
   ],
   "source": [
    "\"\"\"\n",
    "ACCESS item in Dictionary\n",
    "\"\"\"\n",
    "\n",
    "d = {1: 2, 3: 4, 4: 3, 2: 1, 0: 0}\n",
    "print(d[4])\n",
    "\n",
    "print(d.get(4))\n",
    "\n",
    "#set default if key does not exist\n",
    "print(d.setdefault(8,11))\n",
    "\n",
    "#set default adds the k,v combination\n",
    "print(d)"
   ]
  },
  {
   "cell_type": "code",
   "execution_count": 118,
   "metadata": {},
   "outputs": [
    {
     "name": "stdout",
     "output_type": "stream",
     "text": [
      "{1: 2, 3: 4, 4: 3, 2: 1, 0: 0}\n",
      "{1: 2, 3: 4, 4: 3, 2: 1, 0: 0}\n"
     ]
    }
   ],
   "source": [
    "\"\"\"\n",
    "COPY a Dictionary\n",
    "\"\"\"\n",
    "\n",
    "e=d\n",
    "print(e)\n",
    "\n",
    "f=dict(d)\n",
    "print(f)"
   ]
  },
  {
   "cell_type": "code",
   "execution_count": 131,
   "metadata": {},
   "outputs": [
    {
     "name": "stdout",
     "output_type": "stream",
     "text": [
      "values 2\n",
      "values 4\n",
      "values 3\n",
      "values 1\n",
      "values 0\n",
      "values: 2\n",
      "values: 4\n",
      "values: 3\n",
      "values: 1\n",
      "values: 0\n",
      "keys 1\n",
      "keys 3\n",
      "keys 4\n",
      "keys 2\n",
      "keys 0\n",
      "keys1 1\n",
      "keys1 3\n",
      "keys1 4\n",
      "keys1 2\n",
      "keys1 0\n",
      "1 : 2\n",
      "3 : 4\n",
      "4 : 3\n",
      "2 : 1\n",
      "0 : 0\n"
     ]
    }
   ],
   "source": [
    "\"\"\"\n",
    "LOOP through a dictionary\n",
    "\"\"\"\n",
    "#values\n",
    "for x in d:\n",
    "    print(\"values\",d[x])\n",
    "\n",
    "#values\n",
    "for x in d.values():\n",
    "    print(\"values:\",x)\n",
    "\n",
    "    \n",
    "#keys\n",
    "for x in d:\n",
    "    print(\"keys\",x)\n",
    "    \n",
    "for x in d.keys():\n",
    "    print(\"keys1\",x)\n",
    "\n",
    "#items\n",
    "for k,v in d.items():\n",
    "    print(k,\":\",v)\n"
   ]
  },
  {
   "cell_type": "code",
   "execution_count": 83,
   "metadata": {},
   "outputs": [
    {
     "name": "stdout",
     "output_type": "stream",
     "text": [
      "does not exist\n"
     ]
    }
   ],
   "source": [
    "\"\"\"\n",
    "Check if key exists\n",
    "\"\"\"\n",
    "\n",
    "n=5\n",
    "if n in d:\n",
    "    print(\"exists\")\n",
    "else:\n",
    "    print(\"does not exist\")"
   ]
  },
  {
   "cell_type": "code",
   "execution_count": 85,
   "metadata": {},
   "outputs": [
    {
     "name": "stdout",
     "output_type": "stream",
     "text": [
      "5\n"
     ]
    }
   ],
   "source": [
    "\"\"\"\n",
    "Length of Dictionary\n",
    "\"\"\"\n",
    "print(len(d))"
   ]
  },
  {
   "cell_type": "code",
   "execution_count": 120,
   "metadata": {},
   "outputs": [
    {
     "name": "stdout",
     "output_type": "stream",
     "text": [
      "{'x': {1: 2, 3: 4}, 'y': {4: 3, 2: 1}, 'z': {0: 0, 21: 22}}\n"
     ]
    }
   ],
   "source": [
    "\"\"\"\n",
    "NESTED Dictionary\n",
    "\"\"\"\n",
    "\n",
    "#Create\n",
    "\n",
    "x={1: 2, 3: 4}\n",
    "y={4: 3, 2: 1}\n",
    "z={0:0, 21:22}\n",
    "xyz={\"x\":x,\"y\":y,\"z\":z}\n",
    "print(xyz)"
   ]
  },
  {
   "cell_type": "code",
   "execution_count": 142,
   "metadata": {},
   "outputs": [
    {
     "name": "stdout",
     "output_type": "stream",
     "text": [
      "{1: 10, 2: 20, 3: 30, 4: 40, 5: 50, 6: 60}\n",
      "{1: 10, 2: 20, 3: 30, 4: 40, 5: 50, 6: 60}\n"
     ]
    }
   ],
   "source": [
    "\"\"\"\n",
    "CONCATENATE dictionaries\n",
    "\"\"\"\n",
    "d=dict()\n",
    "dic1={1:10, 2:20}\n",
    "dic2={3:30, 4:40}\n",
    "dic3={5:50, 6:60}\n",
    "for i in (dic1, dic2, dic3):\n",
    "    d.update(i)\n",
    "print(d)\n",
    "\n",
    "#ALTERNATE>>\n",
    "\n",
    "d1={**dic1,**dic2,**dic3}\n",
    "print(d1)"
   ]
  },
  {
   "cell_type": "code",
   "execution_count": 57,
   "metadata": {},
   "outputs": [
    {
     "name": "stdout",
     "output_type": "stream",
     "text": [
      "{0: 0, 2: 1, 1: 2, 4: 3, 3: 4}\n",
      "[(0, 0), (2, 1), (1, 2), (4, 3), (3, 4)]\n",
      "{0: 0, 2: 1, 1: 2, 4: 3, 3: 4}\n",
      "{0: 0, 2: 1, 1: 2, 4: 3, 3: 4}\n"
     ]
    }
   ],
   "source": [
    "\"\"\"\n",
    "Print dictionary sorted by value in ascending order\n",
    "\n",
    "\"\"\"\n",
    "\n",
    "x = {1: 2, 3: 4, 4: 3, 2: 1, 0: 0}\n",
    "print({k:v for k, v in sorted(x.items(), key=lambda item: item[1])})\n",
    "\n",
    "\n",
    "y = {1: 2, 3: 4, 4: 3, 2: 1, 0: 0}\n",
    "print(sorted(x.items(), key=lambda item: item[1]))\n",
    "\n",
    "import operator\n",
    "d = {1: 2, 3: 4, 4: 3, 2: 1, 0: 0}\n",
    "sorted_d = dict(sorted(d.items(), key=operator.itemgetter(1)))\n",
    "print(sorted_d)\n",
    "\n",
    "b = {1: 2, 3: 4, 4: 3, 2: 1, 0: 0}\n",
    "print(dict(sorted(b.items(), key=lambda item: item[1])))"
   ]
  },
  {
   "cell_type": "code",
   "execution_count": null,
   "metadata": {},
   "outputs": [],
   "source": []
  }
 ],
 "metadata": {
  "kernelspec": {
   "display_name": "Python 3",
   "language": "python",
   "name": "python3"
  },
  "language_info": {
   "codemirror_mode": {
    "name": "ipython",
    "version": 3
   },
   "file_extension": ".py",
   "mimetype": "text/x-python",
   "name": "python",
   "nbconvert_exporter": "python",
   "pygments_lexer": "ipython3",
   "version": "3.7.3"
  }
 },
 "nbformat": 4,
 "nbformat_minor": 2
}
