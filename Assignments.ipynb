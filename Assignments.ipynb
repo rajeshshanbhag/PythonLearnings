{
 "cells": [
  {
   "cell_type": "code",
   "execution_count": null,
   "id": "db62dbbe",
   "metadata": {},
   "outputs": [],
   "source": [
    "## ASSIGNMENTS"
   ]
  },
  {
   "cell_type": "code",
   "execution_count": 3,
   "id": "2673aefb",
   "metadata": {},
   "outputs": [
    {
     "name": "stdout",
     "output_type": "stream",
     "text": [
      "5\n",
      "10\n",
      "15\n"
     ]
    }
   ],
   "source": [
    "a=5\n",
    "\n",
    "print (a)\n",
    "print (a+a)\n",
    "\n",
    "a=a+a+a\n",
    "print (a)"
   ]
  },
  {
   "cell_type": "code",
   "execution_count": 6,
   "id": "87159aaf",
   "metadata": {},
   "outputs": [],
   "source": [
    "## 1. Names can not start with a number.\n",
    "## 2. There can be no spaces in the name, use _ instead.\n",
    "## 3. Can't use any of these symbols :'\",<>/?|\\()!@#$%^&*~-+\n",
    "## 4. It's considered best practice (PEP8) that names are lowercase.\n",
    "## 5. Avoid using the characters 'l' (lowercase letter el), 'O' (uppercase letter oh), \n",
    "##    or 'I' (uppercase letter eye) as single character variable names.\n",
    "## 6. Avoid using words that have special meaning in Python like \"list\" and \"str\""
   ]
  },
  {
   "cell_type": "code",
   "execution_count": null,
   "id": "fb03a20f",
   "metadata": {},
   "outputs": [],
   "source": []
  }
 ],
 "metadata": {
  "kernelspec": {
   "display_name": "Python 3 (ipykernel)",
   "language": "python",
   "name": "python3"
  },
  "language_info": {
   "codemirror_mode": {
    "name": "ipython",
    "version": 3
   },
   "file_extension": ".py",
   "mimetype": "text/x-python",
   "name": "python",
   "nbconvert_exporter": "python",
   "pygments_lexer": "ipython3",
   "version": "3.9.12"
  }
 },
 "nbformat": 4,
 "nbformat_minor": 5
}
